{
  "nbformat": 4,
  "nbformat_minor": 0,
  "metadata": {
    "colab": {
      "provenance": []
    },
    "kernelspec": {
      "name": "python3",
      "display_name": "Python 3"
    },
    "language_info": {
      "name": "python"
    }
  },
  "cells": [
    {
      "cell_type": "code",
      "source": [
        "!pip install -q langchain-community sentence-transformers google-generativeai langchain-google-genai faiss-cpu pypdf pdfminer.six"
      ],
      "metadata": {
        "colab": {
          "base_uri": "https://localhost:8080/"
        },
        "id": "wGorM4QH6n9H",
        "outputId": "cbc27517-3b7c-4db3-f9fc-1b7ea2dc023e"
      },
      "execution_count": null,
      "outputs": [
        {
          "output_type": "stream",
          "name": "stdout",
          "text": [
            "\u001b[?25l   \u001b[90m\u2501\u2501\u2501\u2501\u2501\u2501\u2501\u2501\u2501\u2501\u2501\u2501\u2501\u2501\u2501\u2501\u2501\u2501\u2501\u2501\u2501\u2501\u2501\u2501\u2501\u2501\u2501\u2501\u2501\u2501\u2501\u2501\u2501\u2501\u2501\u2501\u2501\u2501\u2501\u2501\u001b[0m \u001b[32m0.0/2.5 MB\u001b[0m \u001b[31m?\u001b[0m eta \u001b[36m-:--:--\u001b[0m\r\u001b[2K   \u001b[91m\u2501\u2501\u2501\u2501\u2501\u2501\u2501\u2501\u2501\u2501\u2501\u2501\u2501\u2501\u2501\u2501\u2501\u2501\u2501\u2501\u2501\u2501\u2501\u2501\u2501\u2501\u2501\u2501\u2501\u2501\u2501\u2501\u2501\u2501\u2501\u2501\u2501\u2501\u2501\u001b[0m\u001b[91m\u2578\u001b[0m \u001b[32m2.5/2.5 MB\u001b[0m \u001b[31m98.2 MB/s\u001b[0m eta \u001b[36m0:00:01\u001b[0m\r\u001b[2K   \u001b[90m\u2501\u2501\u2501\u2501\u2501\u2501\u2501\u2501\u2501\u2501\u2501\u2501\u2501\u2501\u2501\u2501\u2501\u2501\u2501\u2501\u2501\u2501\u2501\u2501\u2501\u2501\u2501\u2501\u2501\u2501\u2501\u2501\u2501\u2501\u2501\u2501\u2501\u2501\u2501\u2501\u001b[0m \u001b[32m2.5/2.5 MB\u001b[0m \u001b[31m48.8 MB/s\u001b[0m eta \u001b[36m0:00:00\u001b[0m\n",
            "\u001b[2K   \u001b[90m\u2501\u2501\u2501\u2501\u2501\u2501\u2501\u2501\u2501\u2501\u2501\u2501\u2501\u2501\u2501\u2501\u2501\u2501\u2501\u2501\u2501\u2501\u2501\u2501\u2501\u2501\u2501\u2501\u2501\u2501\u2501\u2501\u2501\u2501\u2501\u2501\u2501\u2501\u2501\u2501\u001b[0m \u001b[32m42.0/42.0 kB\u001b[0m \u001b[31m2.4 MB/s\u001b[0m eta \u001b[36m0:00:00\u001b[0m\n",
            "\u001b[2K   \u001b[90m\u2501\u2501\u2501\u2501\u2501\u2501\u2501\u2501\u2501\u2501\u2501\u2501\u2501\u2501\u2501\u2501\u2501\u2501\u2501\u2501\u2501\u2501\u2501\u2501\u2501\u2501\u2501\u2501\u2501\u2501\u2501\u2501\u2501\u2501\u2501\u2501\u2501\u2501\u2501\u2501\u001b[0m \u001b[32m31.3/31.3 MB\u001b[0m \u001b[31m47.3 MB/s\u001b[0m eta \u001b[36m0:00:00\u001b[0m\n",
            "\u001b[2K   \u001b[90m\u2501\u2501\u2501\u2501\u2501\u2501\u2501\u2501\u2501\u2501\u2501\u2501\u2501\u2501\u2501\u2501\u2501\u2501\u2501\u2501\u2501\u2501\u2501\u2501\u2501\u2501\u2501\u2501\u2501\u2501\u2501\u2501\u2501\u2501\u2501\u2501\u2501\u2501\u2501\u2501\u001b[0m \u001b[32m309.7/309.7 kB\u001b[0m \u001b[31m21.9 MB/s\u001b[0m eta \u001b[36m0:00:00\u001b[0m\n",
            "\u001b[2K   \u001b[90m\u2501\u2501\u2501\u2501\u2501\u2501\u2501\u2501\u2501\u2501\u2501\u2501\u2501\u2501\u2501\u2501\u2501\u2501\u2501\u2501\u2501\u2501\u2501\u2501\u2501\u2501\u2501\u2501\u2501\u2501\u2501\u2501\u2501\u2501\u2501\u2501\u2501\u2501\u2501\u2501\u001b[0m \u001b[32m5.6/5.6 MB\u001b[0m \u001b[31m74.7 MB/s\u001b[0m eta \u001b[36m0:00:00\u001b[0m\n",
            "\u001b[2K   \u001b[90m\u2501\u2501\u2501\u2501\u2501\u2501\u2501\u2501\u2501\u2501\u2501\u2501\u2501\u2501\u2501\u2501\u2501\u2501\u2501\u2501\u2501\u2501\u2501\u2501\u2501\u2501\u2501\u2501\u2501\u2501\u2501\u2501\u2501\u2501\u2501\u2501\u2501\u2501\u2501\u2501\u001b[0m \u001b[32m45.2/45.2 kB\u001b[0m \u001b[31m3.1 MB/s\u001b[0m eta \u001b[36m0:00:00\u001b[0m\n",
            "\u001b[2K   \u001b[90m\u2501\u2501\u2501\u2501\u2501\u2501\u2501\u2501\u2501\u2501\u2501\u2501\u2501\u2501\u2501\u2501\u2501\u2501\u2501\u2501\u2501\u2501\u2501\u2501\u2501\u2501\u2501\u2501\u2501\u2501\u2501\u2501\u2501\u2501\u2501\u2501\u2501\u2501\u2501\u2501\u001b[0m \u001b[32m363.4/363.4 MB\u001b[0m \u001b[31m4.5 MB/s\u001b[0m eta \u001b[36m0:00:00\u001b[0m\n",
            "\u001b[2K   \u001b[90m\u2501\u2501\u2501\u2501\u2501\u2501\u2501\u2501\u2501\u2501\u2501\u2501\u2501\u2501\u2501\u2501\u2501\u2501\u2501\u2501\u2501\u2501\u2501\u2501\u2501\u2501\u2501\u2501\u2501\u2501\u2501\u2501\u2501\u2501\u2501\u2501\u2501\u2501\u2501\u2501\u001b[0m \u001b[32m13.8/13.8 MB\u001b[0m \u001b[31m92.1 MB/s\u001b[0m eta \u001b[36m0:00:00\u001b[0m\n",
            "\u001b[2K   \u001b[90m\u2501\u2501\u2501\u2501\u2501\u2501\u2501\u2501\u2501\u2501\u2501\u2501\u2501\u2501\u2501\u2501\u2501\u2501\u2501\u2501\u2501\u2501\u2501\u2501\u2501\u2501\u2501\u2501\u2501\u2501\u2501\u2501\u2501\u2501\u2501\u2501\u2501\u2501\u2501\u2501\u001b[0m \u001b[32m24.6/24.6 MB\u001b[0m \u001b[31m79.3 MB/s\u001b[0m eta \u001b[36m0:00:00\u001b[0m\n",
            "\u001b[2K   \u001b[90m\u2501\u2501\u2501\u2501\u2501\u2501\u2501\u2501\u2501\u2501\u2501\u2501\u2501\u2501\u2501\u2501\u2501\u2501\u2501\u2501\u2501\u2501\u2501\u2501\u2501\u2501\u2501\u2501\u2501\u2501\u2501\u2501\u2501\u2501\u2501\u2501\u2501\u2501\u2501\u2501\u001b[0m \u001b[32m883.7/883.7 kB\u001b[0m \u001b[31m40.3 MB/s\u001b[0m eta \u001b[36m0:00:00\u001b[0m\n",
            "\u001b[2K   \u001b[90m\u2501\u2501\u2501\u2501\u2501\u2501\u2501\u2501\u2501\u2501\u2501\u2501\u2501\u2501\u2501\u2501\u2501\u2501\u2501\u2501\u2501\u2501\u2501\u2501\u2501\u2501\u2501\u2501\u2501\u2501\u2501\u2501\u2501\u2501\u2501\u2501\u2501\u2501\u2501\u2501\u001b[0m \u001b[32m664.8/664.8 MB\u001b[0m \u001b[31m1.8 MB/s\u001b[0m eta \u001b[36m0:00:00\u001b[0m\n",
            "\u001b[2K   \u001b[90m\u2501\u2501\u2501\u2501\u2501\u2501\u2501\u2501\u2501\u2501\u2501\u2501\u2501\u2501\u2501\u2501\u2501\u2501\u2501\u2501\u2501\u2501\u2501\u2501\u2501\u2501\u2501\u2501\u2501\u2501\u2501\u2501\u2501\u2501\u2501\u2501\u2501\u2501\u2501\u2501\u001b[0m \u001b[32m211.5/211.5 MB\u001b[0m \u001b[31m5.7 MB/s\u001b[0m eta \u001b[36m0:00:00\u001b[0m\n",
            "\u001b[2K   \u001b[90m\u2501\u2501\u2501\u2501\u2501\u2501\u2501\u2501\u2501\u2501\u2501\u2501\u2501\u2501\u2501\u2501\u2501\u2501\u2501\u2501\u2501\u2501\u2501\u2501\u2501\u2501\u2501\u2501\u2501\u2501\u2501\u2501\u2501\u2501\u2501\u2501\u2501\u2501\u2501\u2501\u001b[0m \u001b[32m56.3/56.3 MB\u001b[0m \u001b[31m11.4 MB/s\u001b[0m eta \u001b[36m0:00:00\u001b[0m\n",
            "\u001b[2K   \u001b[90m\u2501\u2501\u2501\u2501\u2501\u2501\u2501\u2501\u2501\u2501\u2501\u2501\u2501\u2501\u2501\u2501\u2501\u2501\u2501\u2501\u2501\u2501\u2501\u2501\u2501\u2501\u2501\u2501\u2501\u2501\u2501\u2501\u2501\u2501\u2501\u2501\u2501\u2501\u2501\u2501\u001b[0m \u001b[32m127.9/127.9 MB\u001b[0m \u001b[31m7.3 MB/s\u001b[0m eta \u001b[36m0:00:00\u001b[0m\n",
            "\u001b[2K   \u001b[90m\u2501\u2501\u2501\u2501\u2501\u2501\u2501\u2501\u2501\u2501\u2501\u2501\u2501\u2501\u2501\u2501\u2501\u2501\u2501\u2501\u2501\u2501\u2501\u2501\u2501\u2501\u2501\u2501\u2501\u2501\u2501\u2501\u2501\u2501\u2501\u2501\u2501\u2501\u2501\u2501\u001b[0m \u001b[32m207.5/207.5 MB\u001b[0m \u001b[31m6.2 MB/s\u001b[0m eta \u001b[36m0:00:00\u001b[0m\n",
            "\u001b[2K   \u001b[90m\u2501\u2501\u2501\u2501\u2501\u2501\u2501\u2501\u2501\u2501\u2501\u2501\u2501\u2501\u2501\u2501\u2501\u2501\u2501\u2501\u2501\u2501\u2501\u2501\u2501\u2501\u2501\u2501\u2501\u2501\u2501\u2501\u2501\u2501\u2501\u2501\u2501\u2501\u2501\u2501\u001b[0m \u001b[32m21.1/21.1 MB\u001b[0m \u001b[31m81.7 MB/s\u001b[0m eta \u001b[36m0:00:00\u001b[0m\n",
            "\u001b[2K   \u001b[90m\u2501\u2501\u2501\u2501\u2501\u2501\u2501\u2501\u2501\u2501\u2501\u2501\u2501\u2501\u2501\u2501\u2501\u2501\u2501\u2501\u2501\u2501\u2501\u2501\u2501\u2501\u2501\u2501\u2501\u2501\u2501\u2501\u2501\u2501\u2501\u2501\u2501\u2501\u2501\u2501\u001b[0m \u001b[32m50.9/50.9 kB\u001b[0m \u001b[31m3.4 MB/s\u001b[0m eta \u001b[36m0:00:00\u001b[0m\n",
            "\u001b[?25h"
          ]
        }
      ]
    },
    {
      "cell_type": "code",
      "execution_count": null,
      "metadata": {
        "id": "CSTpmetMvulm"
      },
      "outputs": [],
      "source": [
        "import os\n",
        "from langchain_google_genai import ChatGoogleGenerativeAI\n",
        "from langchain_community.embeddings import HuggingFaceEmbeddings\n",
        "from langchain_community.document_loaders import PyPDFLoader\n",
        "from langchain.text_splitter import RecursiveCharacterTextSplitter\n",
        "from langchain_community.vectorstores import FAISS\n",
        "from langchain_core.prompts import ChatPromptTemplate\n",
        "from langchain_core.runnables import RunnablePassthrough\n",
        "import torch\n",
        "from google.colab import userdata"
      ]
    },
    {
      "cell_type": "code",
      "source": [
        "GOOGLE_API_KEY=userdata.get(\"GOOGLE_API_KEY\")\n",
        "os.environ[\"GOOGLE_API_KEY\"]=GOOGLE_API_KEY"
      ],
      "metadata": {
        "id": "HP30f0dWybYb"
      },
      "execution_count": null,
      "outputs": []
    },
    {
      "cell_type": "code",
      "source": [
        "embeddings=HuggingFaceEmbeddings(model_name=\"sentence-transformers/paraphrase-multilingual-mpnet-base-v2\",\n",
        "                                    model_kwargs={'device': 'cuda' if torch.cuda.is_available() else 'cpu'},encode_kwargs={'normalize_embeddings': True},\n",
        "                                )"
      ],
      "metadata": {
        "colab": {
          "base_uri": "https://localhost:8080/",
          "height": 528,
          "referenced_widgets": [
            "34e8b49eb14b4511b3bf1861be8d0647",
            "ae93b442560f4efbb68aba1e9b835c03",
            "44ea9e846e5946eeba9720e514169c13",
            "e1e77e2d711a48c59ba1e462c3688d97",
            "4a0cea0ffba34ab1a45002f41abcd5dd",
            "3302be0d97fa4d91b3271a9b9a2e016a",
            "af9fdf8774894e7483b41c7afced4918",
            "fb66e4fd61294ba9beb49a2d88efaf16",
            "b63475553c794840941d9f6607f7dab8",
            "b2aad0316e2f43c3b284214f53687b35",
            "e903fe65d6294ee2bb0741f82f15adb4",
            "8c5fce3d5e9c4abe8423e3c9654d71cf",
            "74324ec41d0d4fb5ac711749b4e062a8",
            "4883f1e2af2f4f58a33c9f580ff265cd",
            "4bb930745f874ae7a367695f014c2419",
            "1263e64c3a4142f993cd0fa66b38bdd9",
            "a73cb990ae134a44834fbc4015f71f22",
            "b489bd798d2c471294f2f93a230e6b46",
            "b8f34bb5b0084848bdc2899249408f3a",
            "3a442b5000a44b16af905f35cf10efd0",
            "bfa1bcc31d764f0ca15c81158776d851",
            "e316314766934fb09f287de528597308",
            "57a55435d0c14f18bba3e1b05c0dfac4",
            "1e77bff00147454ab527e954e42a22f5",
            "aa1e544aaccb46a69ea5dd81a7207be1",
            "7e410cbf930142ef99b7fed3b9c54394",
            "a4e3e1d35915412c894ce88ba4dd4762",
            "d41a62ce5cc245ada53562eb7dcabf97",
            "03a9c79818594ae48f9ea173143c80f9",
            "5028d7768a164e588a565d32445266dd",
            "0d2a088a04bd406093fde4a53d6089d8",
            "19fe897671024ac1b4e39155063b8ae3",
            "a5c6fa13ebb74869b9b8c68efc949cab",
            "6db6090eb42b4e5c93fcf90ee20f7d8e",
            "a3f607e7d5b441f9a61a4e24cad3f9c7",
            "1c9f1f25fe30431785d73a0921cd604e",
            "2ba961ceb0bc49c1b6f2996ae59ba4e8",
            "fb014af2b86a4866b28fc2f665c46a00",
            "6f8cc03db1374af7841a39b00653dd78",
            "c5c981469e2148e4b758664b2dacb196",
            "d120676c8b074294b5a95aacd8278f28",
            "85398fbb70dc478597600759c9ed1693",
            "d86eb4938f564767a970c0172a78e4ba",
            "beb509d81b7b419593b497612b74caf4",
            "33b114a4fcdf4dfa8be195b4ff4dd000",
            "3a84c7bc63f1448b8a2c8969c30757ba",
            "01cb4fc9b221410091586cdf4c7c908f",
            "ce51ee3fb44149a4987c95d87f8ec809",
            "fbe37678adc147d987bba8154e2b9ad4",
            "3cbc88c9eea14bc292bcfb6cd9d80ff5",
            "f6eeceb60d13438fb1ba92649dec1ec0",
            "ce07765dd19d4c679ebdc3d4898c5dcb",
            "0a4f93be62ef4b2bbb1f39396f6a91c3",
            "8c8e758a86f74a2ab47913060d256fb1",
            "0645dba41d834921a93e9cf57aaa3833",
            "571d5eaf55c044e9a8720aad41cba4af",
            "fa817970abcb4ffebe9a51c7dbd7df6e",
            "6eda6dfa59274e359a76450f15223d68",
            "bd743a07549c48a593ec32eae43a98f3",
            "96a05df0b49547878aedafa56110acf0",
            "63b6805852854476ad2113c4a7257cd8",
            "9b6d0e5d5eab4f84912be6c81908c1dc",
            "11190e1018e547d69f94b70be6688bfd",
            "f06ef67943cc48f585477b5a9698f8d2",
            "2320d3e5624d4899878e151bb76ba9a3",
            "ed817dbe58a349589f4836f770290538",
            "7d700dd959124b7e84baf663d658820c",
            "7f9efb293b674284bc9f6b72af470f17",
            "1d68fa67229b457b97f231d442f90069",
            "7871c29109f14d11a08b7f353ad6ed66",
            "91d0e3b8bbf047958a53c61135dcb58b",
            "7922589e82cb4ea48be1ca3f0e3e31eb",
            "a494bfbf7d38439f8dbf4435359b1ea0",
            "1876da17616246a095a112122b012722",
            "f872c8d2998748e8b1507eaf3d6f9967",
            "1a3e71d09f1243cab9001b815a789ef3",
            "4b22dc68338944fbabb96aff3810b98d",
            "c04a586684a542dd86f89229b17672e1",
            "c01bea2c89b84bb49e6aef8708d56aa4",
            "b9428ba2a91740ec96830146fa833be6",
            "54cad67aadd34571abe9844e8361af31",
            "ae33a760784f4cb49d7d4d50bbe1ac54",
            "c5cdf34355324f71bf9860285f85f688",
            "a5fdfb17da85430bb1401e28aa71e3fc",
            "4f1dc90130104c629707156036dadcea",
            "a0082bf47cbd4c16bcb2b7de6f510ccb",
            "09284d54037a4e0abaf6a5588df66709",
            "8ae02c45478440378407af7eeee0f587",
            "535c28ffaf8945559f998b62afb132ed",
            "5e4506cc87024ad794ba19451388a616",
            "da536b51bdea4ce78b9d100c2d8bff0f",
            "f8d74c0ff014498da4a292cd0cc84255",
            "9da756609ab54dfbb0f3000050713dc4",
            "aafae175cbfe45ceaf44c262ad1a4a81",
            "b2f17fbe52da4a42abd45d9926d30f92",
            "2971cf52401a42609c7744bf849d7460",
            "1c135091c9be4eb9877b103f5f8464a2",
            "126f4262bdb54a5bb1d39c84562b8795",
            "8fa5c4403dca405cbeb7b11834f83075",
            "105a13cdda094110b11b5c1d3f9c30cb",
            "61a8d68d8a1e48fbbbf8268687808c64",
            "da22370afb9647eb8ab0fb69a64dbcdb",
            "f7cea2879a9a4f74828c8ae459157ef2",
            "523e25c9d1c64f6c987c6e6b60059d03",
            "e9604337658a4370aa4692166a6c0856",
            "91e91086b9e943d2ab8c6432e4db8a6f",
            "872ba476f32e4e1f8e0d55d4c0e8d6a0",
            "ac0b1990ecaa4ab5a3be02fabe8999ec",
            "4e9597efe75f4ef9b47dc08b9de145cb",
            "aa6bdd9ff41844ee9483d4a1563b9ed6",
            "c9598b5f4dda4d76b2baf3f40c04699a",
            "a1f96f6aa0d040679b854c551ea81d3e",
            "f1c9a3501b894c65ba013352cf0a9924",
            "9fb8506113bb4925b8d99cc9ee3f6c5b",
            "57e14bbfa57e4cd48a0bb776da9532a1",
            "5070f42918be4e12b72833f2987bc102",
            "7c4551c0fe884bd8b2459e59503981ef",
            "b3f569297cc548cda41b79b1c7f88554",
            "fab35c89998542d1a06c160482e843b6",
            "6c68a1a2136845cb8048bccc2577e2b6",
            "ab723186b57b4b078c642c52fde04efe"
          ]
        },
        "id": "8syxQhTAzxz5",
        "outputId": "b2bf911f-50f8-4906-eb05-1e2c0b7531c9"
      },
      "execution_count": null,
      "outputs": [
        {
          "output_type": "stream",
          "name": "stderr",
          "text": [
            "/tmp/ipython-input-5-374063108.py:1: LangChainDeprecationWarning: The class `HuggingFaceEmbeddings` was deprecated in LangChain 0.2.2 and will be removed in 1.0. An updated version of the class exists in the :class:`~langchain-huggingface package and should be used instead. To use it run `pip install -U :class:`~langchain-huggingface` and import as `from :class:`~langchain_huggingface import HuggingFaceEmbeddings``.\n",
            "  embeddings=HuggingFaceEmbeddings(model_name=\"sentence-transformers/paraphrase-multilingual-mpnet-base-v2\",\n",
            "/usr/local/lib/python3.11/dist-packages/huggingface_hub/utils/_auth.py:94: UserWarning: \n",
            "The secret `HF_TOKEN` does not exist in your Colab secrets.\n",
            "To authenticate with the Hugging Face Hub, create a token in your settings tab (https://huggingface.co/settings/tokens), set it as secret in your Google Colab and restart your session.\n",
            "You will be able to reuse this secret in all of your notebooks.\n",
            "Please note that authentication is recommended but still optional to access public models or datasets.\n",
            "  warnings.warn(\n"
          ]
        },
        {
          "output_type": "display_data",
          "data": {
            "text/plain": [
              "modules.json:   0%|          | 0.00/229 [00:00<?, ?B/s]"
            ],
            "application/vnd.jupyter.widget-view+json": {
              "version_major": 2,
              "version_minor": 0,
              "model_id": "34e8b49eb14b4511b3bf1861be8d0647"
            }
          },
          "metadata": {}
        },
        {
          "output_type": "display_data",
          "data": {
            "text/plain": [
              "config_sentence_transformers.json:   0%|          | 0.00/122 [00:00<?, ?B/s]"
            ],
            "application/vnd.jupyter.widget-view+json": {
              "version_major": 2,
              "version_minor": 0,
              "model_id": "8c5fce3d5e9c4abe8423e3c9654d71cf"
            }
          },
          "metadata": {}
        },
        {
          "output_type": "display_data",
          "data": {
            "text/plain": [
              "README.md: 0.00B [00:00, ?B/s]"
            ],
            "application/vnd.jupyter.widget-view+json": {
              "version_major": 2,
              "version_minor": 0,
              "model_id": "57a55435d0c14f18bba3e1b05c0dfac4"
            }
          },
          "metadata": {}
        },
        {
          "output_type": "display_data",
          "data": {
            "text/plain": [
              "sentence_bert_config.json:   0%|          | 0.00/53.0 [00:00<?, ?B/s]"
            ],
            "application/vnd.jupyter.widget-view+json": {
              "version_major": 2,
              "version_minor": 0,
              "model_id": "6db6090eb42b4e5c93fcf90ee20f7d8e"
            }
          },
          "metadata": {}
        },
        {
          "output_type": "display_data",
          "data": {
            "text/plain": [
              "config.json:   0%|          | 0.00/723 [00:00<?, ?B/s]"
            ],
            "application/vnd.jupyter.widget-view+json": {
              "version_major": 2,
              "version_minor": 0,
              "model_id": "33b114a4fcdf4dfa8be195b4ff4dd000"
            }
          },
          "metadata": {}
        },
        {
          "output_type": "display_data",
          "data": {
            "text/plain": [
              "model.safetensors:   0%|          | 0.00/1.11G [00:00<?, ?B/s]"
            ],
            "application/vnd.jupyter.widget-view+json": {
              "version_major": 2,
              "version_minor": 0,
              "model_id": "571d5eaf55c044e9a8720aad41cba4af"
            }
          },
          "metadata": {}
        },
        {
          "output_type": "display_data",
          "data": {
            "text/plain": [
              "tokenizer_config.json:   0%|          | 0.00/402 [00:00<?, ?B/s]"
            ],
            "application/vnd.jupyter.widget-view+json": {
              "version_major": 2,
              "version_minor": 0,
              "model_id": "7d700dd959124b7e84baf663d658820c"
            }
          },
          "metadata": {}
        },
        {
          "output_type": "display_data",
          "data": {
            "text/plain": [
              "sentencepiece.bpe.model:   0%|          | 0.00/5.07M [00:00<?, ?B/s]"
            ],
            "application/vnd.jupyter.widget-view+json": {
              "version_major": 2,
              "version_minor": 0,
              "model_id": "c04a586684a542dd86f89229b17672e1"
            }
          },
          "metadata": {}
        },
        {
          "output_type": "display_data",
          "data": {
            "text/plain": [
              "tokenizer.json: 0.00B [00:00, ?B/s]"
            ],
            "application/vnd.jupyter.widget-view+json": {
              "version_major": 2,
              "version_minor": 0,
              "model_id": "535c28ffaf8945559f998b62afb132ed"
            }
          },
          "metadata": {}
        },
        {
          "output_type": "display_data",
          "data": {
            "text/plain": [
              "special_tokens_map.json:   0%|          | 0.00/239 [00:00<?, ?B/s]"
            ],
            "application/vnd.jupyter.widget-view+json": {
              "version_major": 2,
              "version_minor": 0,
              "model_id": "105a13cdda094110b11b5c1d3f9c30cb"
            }
          },
          "metadata": {}
        },
        {
          "output_type": "display_data",
          "data": {
            "text/plain": [
              "config.json:   0%|          | 0.00/190 [00:00<?, ?B/s]"
            ],
            "application/vnd.jupyter.widget-view+json": {
              "version_major": 2,
              "version_minor": 0,
              "model_id": "c9598b5f4dda4d76b2baf3f40c04699a"
            }
          },
          "metadata": {}
        }
      ]
    },
    {
      "cell_type": "code",
      "source": [
        "llm = ChatGoogleGenerativeAI(model=\"gemini-pro\",temperature=0.3,convert_system_message_to_human=True)"
      ],
      "metadata": {
        "id": "fgE9iQKL15Qn"
      },
      "execution_count": null,
      "outputs": []
    },
    {
      "cell_type": "code",
      "source": [
        "# Create a special PDF loader customized for Bangla documents\n",
        "class BanglaPDFLoader:\n",
        "\n",
        "\n",
        "    def __init__(self, file_path):\n",
        "        self.file_path = file_path  # Stores the PDF file location\n",
        "\n",
        "\n",
        "    def load(self):\n",
        "        try:\n",
        "            # First try using PyPDFLoader\n",
        "            loader = PyPDFLoader(self.file_path)\n",
        "            pages = loader.load_and_split()  # Extract pages and split into sections\n",
        "\n",
        "            # Print the extracted text from first page\n",
        "            print(\"=== Extracted Text (PyPDF) ===\")\n",
        "            print(pages[0].page_content[:500] + \"...\")  # Show first 500 chars\n",
        "\n",
        "            # Check if text contains Bangla characters\n",
        "            if self._has_bangla_content(pages[0].page_content):\n",
        "                return pages  # Return if Bangla found\n",
        "\n",
        "        except Exception as e:\n",
        "            # If PyPDF fails, try pdfminer\n",
        "            print(f\"PyPDF failed, trying pdfminer: {e}\")\n",
        "\n",
        "            from pdfminer.high_level import extract_text\n",
        "            from langchain_core.documents import Document\n",
        "\n",
        "            # Extract raw text using pdfminer\n",
        "            text = extract_text(self.file_path)\n",
        "\n",
        "\n",
        "            print(\"\\n=== Extracted Text (pdfminer) ===\")\n",
        "            print(text[:500] + \"...\")\n",
        "\n",
        "\n",
        "            return [Document(page_content=text)] if self._has_bangla_content(text) else []\n",
        "        return []\n",
        "\n",
        "    def _has_bangla_content(self, text):\n",
        "        bangla_chars = set(\"\u0985\u0986\u0987\u0988\u0989\u098a\u098b\u098f\u0990\u0993\u0994\u0995\u0996\u0997\u0998\u0999\u099a\u099b\u099c\u099d\u099e\u099f\u09a0\u09a1\u09a2\u09a3\u09a4\u09a5\u09a6\u09a7\u09a8\u09aa\u09ab\u09ac\u09ad\u09ae\u09af\u09b0\u09b2\u09b6\u09b7\u09b8\u09b9\u09dc\u09dd\u09df\u09c8\u09be\u09c7\u09c0\u09c1\u09c2\u09c3\u09c4\u09c7\u09c8\u09cb\u09cc\u09cd\u09ce\u0982\u0983\")\n",
        "        return any(char in bangla_chars for char in text[:500])"
      ],
      "metadata": {
        "id": "HeVZhtz48Q-9"
      },
      "execution_count": null,
      "outputs": []
    },
    {
      "cell_type": "code",
      "source": [
        "def clean_bangla_text(text):\n",
        "  fixes = {\n",
        "        \"\u00e0\u00a6\": \"\u09be\", \"\u00e0\u00a7\": \"\u09c7\", \"\u09cd\u09b0\u09cd\": \"\u09cd\u09b0\", \"\u09cd\u200c\": \"\u09cd\",\n",
        "        \"\uf020\": \" \", \"\ufffd\": \"\", \"\\u200c\": \"\", \"\\u200d\": \"\",\n",
        "        \"  \": \" \", \"\\t\": \" \", \"\\r\\n\": \"\\n\",\n",
        "        \"\u00ea\": \"\u09c7\", \"\u00f4\": \"\u09cb\", \"\u00fb\": \"\u09c2\", \"\u00ee\": \"\u09c0\",\n",
        "        \"\u00e0\": \"\u09be\", \"\u00e9\": \"\u09c7\", \"\u00e7\": \"\u099a\"\n",
        "    }\n",
        "  for wrong,correct in fixes.items():\n",
        "    text=text.replace(wrong,correct)\n",
        "  return text.strip()"
      ],
      "metadata": {
        "id": "6NjRfiS29rz2"
      },
      "execution_count": null,
      "outputs": []
    },
    {
      "cell_type": "code",
      "source": [
        "def get_bangla_splitter():\n",
        "    return RecursiveCharacterTextSplitter(\n",
        "        chunk_size=1000,\n",
        "        chunk_overlap=200,\n",
        "        separators=[\"\\n\\n\", \"\\n\", \"\u0964 \", \"\u0964\", \" \", \"\"],\n",
        "        keep_separator=True,\n",
        "        strip_whitespace=False\n",
        "    )"
      ],
      "metadata": {
        "id": "0NOybqtqd6HJ"
      },
      "execution_count": null,
      "outputs": []
    },
    {
      "cell_type": "code",
      "source": [
        "# 7. Bilingual Prompt Template\n",
        "BILINGUAL_PROMPT = ChatPromptTemplate.from_messages([\n",
        "    (\"system\", \"\"\"\n",
        "    You are a Bangla-English bilingual expert. Strictly follow:\n",
        "    1. Respond in the QUESTION'S LANGUAGE\n",
        "    2. For Bangla: Use \u099a\u09b2\u09bf\u09a4 \u09ad\u09be\u09b7\u09be with numbers like \u09e7\u09e6\u09e6\n",
        "    3. Keep technical terms (e.g., \"AI\", \"GDP\") in original language\n",
        "    4. If unsure: \"\u09aa\u09cd\u09b0\u09a6\u09a4\u09cd\u09a4 \u09a1\u0995\u09c1\u09ae\u09c7\u09a8\u09cd\u099f\u09c7 \u09a4\u09a5\u09cd\u09af \u09a8\u09c7\u0987\" / \"Info not in document\"\n",
        "    \"\"\"),\n",
        "    (\"human\", \"\"\"\n",
        "    DOCUMENT CONTEXT:\n",
        "    {context}\n",
        "\n",
        "    QUESTION:\n",
        "    {question}\n",
        "\n",
        "    ANSWER (concise and in the question's language):\n",
        "    \"\"\")\n",
        "])\n"
      ],
      "metadata": {
        "id": "7L-zJn9ReUnK"
      },
      "execution_count": null,
      "outputs": []
    },
    {
      "cell_type": "code",
      "source": [
        "class BanglaRAGSystem:\n",
        "\n",
        "  def __init__(self):\n",
        "    self.embeddings=embeddings\n",
        "    self.llm=ChatGoogleGenerativeAI(model=\"gemini-2.5-pro\", temperature=0.3)\n",
        "    self.vector_store=None\n",
        "\n",
        "  def process_pdf(self,file_path):\n",
        "    pages=BanglaPDFLoader(file_path).load()\n",
        "    cleaned_pages = [clean_bangla_text(page.page_content) for page in pages if page.page_content.strip()]\n",
        "\n",
        "    chunks=get_bangla_splitter().split_documents(pages)\n",
        "    self.vector_store=FAISS.from_documents(chunks,self.embeddings)\n",
        "\n",
        "\n",
        "    self.retriever = self.vector_store.as_retriever(\n",
        "            search_type=\"mmr\",  # Finds diverse relevant chunks\n",
        "            search_kwargs={\"k\": 5, \"lambda_mult\": 0.6}  # Gets 5 best matches\n",
        "        )\n",
        "\n",
        "            # Create chain\n",
        "    self.chain =(\n",
        "            {\"context\": self.retriever, \"question\": RunnablePassthrough()}\n",
        "            | BILINGUAL_PROMPT\n",
        "            | self.llm\n",
        "        )\n",
        "\n",
        "  def query(self, question):\n",
        "     return self.chain.invoke(question)"
      ],
      "metadata": {
        "id": "XWHq_Vq3f9mb"
      },
      "execution_count": null,
      "outputs": []
    },
    {
      "cell_type": "code",
      "source": [
        "if __name__ == \"__main__\":\n",
        "    # Initialize\n",
        "    rag = BanglaRAGSystem()\n",
        "\n",
        "    # Upload PDF in Colab\n",
        "    from google.colab import files\n",
        "    print(\"Upload your Bangla PDF file:\")\n",
        "    uploaded = files.upload()\n",
        "    pdf_file = next(iter(uploaded))\n",
        "\n",
        "    # Process PDF\n",
        "    rag.process_pdf(pdf_file)\n",
        "\n",
        "    # Test questions\n",
        "    questions = [\n",
        "        \"\u0985\u09a8\u09c1\u09aa\u09ae\u09c7\u09b0 \u09ad\u09be\u09b7\u09be\u09af\u09bc \u09b8\u09c1\u09aa\u09c1\u09b0\u09c1\u09b7 \u0995\u09be\u0995\u09c7 \u09ac\u09b2\u09be \u09b9\u09af\u09bc\u09c7\u099b\u09c7?\",\n",
        "        \"\u0995\u09be\u0995\u09c7 \u0985\u09a8\u09c1\u09aa\u09ae\u09c7\u09b0 \u09ad\u09be\u0997\u09cd\u09af \u09a6\u09c7\u09ac\u09a4\u09be \u09ac\u09b2\u09c7 \u0989\u09b2\u09cd\u09b2\u09c7\u0996 \u0995\u09b0\u09be \u09b9\u09af\u09bc\u09c7\u099b\u09c7?\",\n",
        "        \"\u09ac\u09bf\u09af\u09bc\u09c7\u09b0 \u09b8\u09ae\u09af\u09bc \u0995\u09b2\u09cd\u09af\u09be\u09a3\u09c0\u09b0 \u09aa\u09cd\u09b0\u0995\u09c3\u09a4 \u09ac\u09af\u09bc\u09b8 \u0995\u09a4 \u099b\u09bf\u09b2?\"\n",
        "    ]\n",
        "\n",
        "    for q in questions:\n",
        "        print(f\"\\n\u09aa\u09cd\u09b0\u09b6\u09cd\u09a8: {q}\")\n",
        "        print(f\"\u0989\u09a4\u09cd\u09a4\u09b0: {rag.query(q).content}\")\n",
        "\n"
      ],
      "metadata": {
        "colab": {
          "base_uri": "https://localhost:8080/",
          "height": 350
        },
        "id": "ZUcTFgPKs7R5",
        "outputId": "a00c426c-4b6e-42e5-fc02-049253030fa4"
      },
      "execution_count": null,
      "outputs": [
        {
          "output_type": "stream",
          "name": "stdout",
          "text": [
            "Upload your Bangla PDF file:\n"
          ]
        },
        {
          "output_type": "display_data",
          "data": {
            "text/plain": [
              "<IPython.core.display.HTML object>"
            ],
            "text/html": [
              "\n",
              "     <input type=\"file\" id=\"files-9579a26d-82c3-466c-8ac3-cb524f82e540\" name=\"files[]\" multiple disabled\n",
              "        style=\"border:none\" />\n",
              "     <output id=\"result-9579a26d-82c3-466c-8ac3-cb524f82e540\">\n",
              "      Upload widget is only available when the cell has been executed in the\n",
              "      current browser session. Please rerun this cell to enable.\n",
              "      </output>\n",
              "      <script>// Copyright 2017 Google LLC\n",
              "//\n",
              "// Licensed under the Apache License, Version 2.0 (the \"License\");\n",
              "// you may not use this file except in compliance with the License.\n",
              "// You may obtain a copy of the License at\n",
              "//\n",
              "//      http://www.apache.org/licenses/LICENSE-2.0\n",
              "//\n",
              "// Unless required by applicable law or agreed to in writing, software\n",
              "// distributed under the License is distributed on an \"AS IS\" BASIS,\n",
              "// WITHOUT WARRANTIES OR CONDITIONS OF ANY KIND, either express or implied.\n",
              "// See the License for the specific language governing permissions and\n",
              "// limitations under the License.\n",
              "\n",
              "/**\n",
              " * @fileoverview Helpers for google.colab Python module.\n",
              " */\n",
              "(function(scope) {\n",
              "function span(text, styleAttributes = {}) {\n",
              "  const element = document.createElement('span');\n",
              "  element.textContent = text;\n",
              "  for (const key of Object.keys(styleAttributes)) {\n",
              "    element.style[key] = styleAttributes[key];\n",
              "  }\n",
              "  return element;\n",
              "}\n",
              "\n",
              "// Max number of bytes which will be uploaded at a time.\n",
              "const MAX_PAYLOAD_SIZE = 100 * 1024;\n",
              "\n",
              "function _uploadFiles(inputId, outputId) {\n",
              "  const steps = uploadFilesStep(inputId, outputId);\n",
              "  const outputElement = document.getElementById(outputId);\n",
              "  // Cache steps on the outputElement to make it available for the next call\n",
              "  // to uploadFilesContinue from Python.\n",
              "  outputElement.steps = steps;\n",
              "\n",
              "  return _uploadFilesContinue(outputId);\n",
              "}\n",
              "\n",
              "// This is roughly an async generator (not supported in the browser yet),\n",
              "// where there are multiple asynchronous steps and the Python side is going\n",
              "// to poll for completion of each step.\n",
              "// This uses a Promise to block the python side on completion of each step,\n",
              "// then passes the result of the previous step as the input to the next step.\n",
              "function _uploadFilesContinue(outputId) {\n",
              "  const outputElement = document.getElementById(outputId);\n",
              "  const steps = outputElement.steps;\n",
              "\n",
              "  const next = steps.next(outputElement.lastPromiseValue);\n",
              "  return Promise.resolve(next.value.promise).then((value) => {\n",
              "    // Cache the last promise value to make it available to the next\n",
              "    // step of the generator.\n",
              "    outputElement.lastPromiseValue = value;\n",
              "    return next.value.response;\n",
              "  });\n",
              "}\n",
              "\n",
              "/**\n",
              " * Generator function which is called between each async step of the upload\n",
              " * process.\n",
              " * @param {string} inputId Element ID of the input file picker element.\n",
              " * @param {string} outputId Element ID of the output display.\n",
              " * @return {!Iterable<!Object>} Iterable of next steps.\n",
              " */\n",
              "function* uploadFilesStep(inputId, outputId) {\n",
              "  const inputElement = document.getElementById(inputId);\n",
              "  inputElement.disabled = false;\n",
              "\n",
              "  const outputElement = document.getElementById(outputId);\n",
              "  outputElement.innerHTML = '';\n",
              "\n",
              "  const pickedPromise = new Promise((resolve) => {\n",
              "    inputElement.addEventListener('change', (e) => {\n",
              "      resolve(e.target.files);\n",
              "    });\n",
              "  });\n",
              "\n",
              "  const cancel = document.createElement('button');\n",
              "  inputElement.parentElement.appendChild(cancel);\n",
              "  cancel.textContent = 'Cancel upload';\n",
              "  const cancelPromise = new Promise((resolve) => {\n",
              "    cancel.onclick = () => {\n",
              "      resolve(null);\n",
              "    };\n",
              "  });\n",
              "\n",
              "  // Wait for the user to pick the files.\n",
              "  const files = yield {\n",
              "    promise: Promise.race([pickedPromise, cancelPromise]),\n",
              "    response: {\n",
              "      action: 'starting',\n",
              "    }\n",
              "  };\n",
              "\n",
              "  cancel.remove();\n",
              "\n",
              "  // Disable the input element since further picks are not allowed.\n",
              "  inputElement.disabled = true;\n",
              "\n",
              "  if (!files) {\n",
              "    return {\n",
              "      response: {\n",
              "        action: 'complete',\n",
              "      }\n",
              "    };\n",
              "  }\n",
              "\n",
              "  for (const file of files) {\n",
              "    const li = document.createElement('li');\n",
              "    li.append(span(file.name, {fontWeight: 'bold'}));\n",
              "    li.append(span(\n",
              "        `(${file.type || 'n/a'}) - ${file.size} bytes, ` +\n",
              "        `last modified: ${\n",
              "            file.lastModifiedDate ? file.lastModifiedDate.toLocaleDateString() :\n",
              "                                    'n/a'} - `));\n",
              "    const percent = span('0% done');\n",
              "    li.appendChild(percent);\n",
              "\n",
              "    outputElement.appendChild(li);\n",
              "\n",
              "    const fileDataPromise = new Promise((resolve) => {\n",
              "      const reader = new FileReader();\n",
              "      reader.onload = (e) => {\n",
              "        resolve(e.target.result);\n",
              "      };\n",
              "      reader.readAsArrayBuffer(file);\n",
              "    });\n",
              "    // Wait for the data to be ready.\n",
              "    let fileData = yield {\n",
              "      promise: fileDataPromise,\n",
              "      response: {\n",
              "        action: 'continue',\n",
              "      }\n",
              "    };\n",
              "\n",
              "    // Use a chunked sending to avoid message size limits. See b/62115660.\n",
              "    let position = 0;\n",
              "    do {\n",
              "      const length = Math.min(fileData.byteLength - position, MAX_PAYLOAD_SIZE);\n",
              "      const chunk = new Uint8Array(fileData, position, length);\n",
              "      position += length;\n",
              "\n",
              "      const base64 = btoa(String.fromCharCode.apply(null, chunk));\n",
              "      yield {\n",
              "        response: {\n",
              "          action: 'append',\n",
              "          file: file.name,\n",
              "          data: base64,\n",
              "        },\n",
              "      };\n",
              "\n",
              "      let percentDone = fileData.byteLength === 0 ?\n",
              "          100 :\n",
              "          Math.round((position / fileData.byteLength) * 100);\n",
              "      percent.textContent = `${percentDone}% done`;\n",
              "\n",
              "    } while (position < fileData.byteLength);\n",
              "  }\n",
              "\n",
              "  // All done.\n",
              "  yield {\n",
              "    response: {\n",
              "      action: 'complete',\n",
              "    }\n",
              "  };\n",
              "}\n",
              "\n",
              "scope.google = scope.google || {};\n",
              "scope.google.colab = scope.google.colab || {};\n",
              "scope.google.colab._files = {\n",
              "  _uploadFiles,\n",
              "  _uploadFilesContinue,\n",
              "};\n",
              "})(self);\n",
              "</script> "
            ]
          },
          "metadata": {}
        },
        {
          "output_type": "stream",
          "name": "stdout",
          "text": [
            "Saving HSC26-Bangla1st-Paper.pdf to HSC26-Bangla1st-Paper (1).pdf\n",
            "=== Extracted Text (PyPDF) ===\n",
            "\u0985\u09a8\u09b2\u09be\u0987\u09a8 \u09ac\u09cd\u09af\u09be\u099a \u09b8\u09ae\u09cd\u09aa\u09b0\u09cd\u0995\u09bf\u09a4 \u09af\u09c7\u0995\u0995\u09be\u0995\u09a8\u09be \u099c\u09bf\u099c\u09cd\u099e\u09be\u09be\u09b8\u09be ,\n",
            "\u0985\u09aa\u09b0\u09bf\u09b0\u09bf\u09a4\u09be\n",
            "\u0986\u09b2 \u09be\u09bf\u09af \u09b0\u09bf\u09b7\u09df\n",
            "\u09bf\u09be\u09be\u0982 \u09be\n",
            "\u09e7\u09ae \u09aa\u09a4\u09cd\u09b0...\n",
            "\n",
            "\u09aa\u09cd\u09b0\u09b6\u09cd\u09a8: \u0985\u09a8\u09c1\u09aa\u09ae\u09c7\u09b0 \u09ad\u09be\u09b7\u09be\u09af\u09bc \u09b8\u09c1\u09aa\u09c1\u09b0\u09c1\u09b7 \u0995\u09be\u0995\u09c7 \u09ac\u09b2\u09be \u09b9\u09af\u09bc\u09c7\u099b\u09c7?\n",
            "\u0989\u09a4\u09cd\u09a4\u09b0: \u09aa\u09cd\u09b0\u09a6\u09a4\u09cd\u09a4 \u09a1\u0995\u09c1\u09ae\u09c7\u09a8\u09cd\u099f \u0985\u09a8\u09c1\u09af\u09be\u09df\u09c0, '\u0985\u09aa\u09b0\u09bf\u099a\u09bf\u09a4\u09be' \u0997\u09b2\u09cd\u09aa\u09c7 \u09b6\u09ae\u09cd\u09ad\u09c1\u09a8\u09be\u09a5\u0995\u09c7 \u09b8\u09c1\u09aa\u09c1\u09b0\u09c1\u09b7 \u09ac\u09b2\u09be \u09b9\u09df\u09c7\u099b\u09c7\u0964\n",
            "\n",
            "\u09aa\u09cd\u09b0\u09b6\u09cd\u09a8: \u0995\u09be\u0995\u09c7 \u0985\u09a8\u09c1\u09aa\u09ae\u09c7\u09b0 \u09ad\u09be\u0997\u09cd\u09af \u09a6\u09c7\u09ac\u09a4\u09be \u09ac\u09b2\u09c7 \u0989\u09b2\u09cd\u09b2\u09c7\u0996 \u0995\u09b0\u09be \u09b9\u09af\u09bc\u09c7\u099b\u09c7?\n",
            "\u0989\u09a4\u09cd\u09a4\u09b0: \u09aa\u09cd\u09b0\u09a6\u09a4\u09cd\u09a4 \u09a1\u0995\u09c1\u09ae\u09c7\u09a8\u09cd\u099f \u0985\u09a8\u09c1\u09af\u09be\u09df\u09c0, \u0985\u09a8\u09c1\u09aa\u09ae\u09c7\u09b0 \u0986\u09b8\u09b2 \u0985\u09ad\u09bf\u09ad\u09be\u09ac\u0995 \u09a4\u09be\u09b0 \u09ae\u09be\u09ae\u09be, \u09af\u09bf\u09a8\u09bf \u09a4\u09be\u09a6\u09c7\u09b0 \u09b8\u0982\u09b8\u09be\u09b0\u09c7\u09b0 \u09b8\u09ac\u0995\u09bf\u099b\u09c1\u09b0 \u09a8\u09bf\u09df\u09a8\u09cd\u09a4\u09cd\u09b0\u0995\u0964 \u09a4\u09be\u0987 \u0985\u09a8\u09c1\u09aa\u09ae\u09c7\u09b0 \u09ae\u09be\u09ae\u09be\u0995\u09c7\u0987 \u09a4\u09be\u09b0 \u09ad\u09be\u0997\u09cd\u09af \u09a6\u09c7\u09ac\u09a4\u09be \u09b9\u09bf\u09b8\u09c7\u09ac\u09c7 \u0989\u09b2\u09cd\u09b2\u09c7\u0996 \u0995\u09b0\u09be \u09b9\u09df\u09c7\u099b\u09c7\u0964\n",
            "\n",
            "\u09aa\u09cd\u09b0\u09b6\u09cd\u09a8: \u09ac\u09bf\u09af\u09bc\u09c7\u09b0 \u09b8\u09ae\u09af\u09bc \u0995\u09b2\u09cd\u09af\u09be\u09a3\u09c0\u09b0 \u09aa\u09cd\u09b0\u0995\u09c3\u09a4 \u09ac\u09af\u09bc\u09b8 \u0995\u09a4 \u099b\u09bf\u09b2?\n",
            "\u0989\u09a4\u09cd\u09a4\u09b0: \u09aa\u09cd\u09b0\u09a6\u09a4\u09cd\u09a4 \u09a1\u0995\u09c1\u09ae\u09c7\u09a8\u09cd\u099f\u09c7 \u09a4\u09a5\u09cd\u09af \u09a8\u09c7\u0987\u0964\n"
          ]
        }
      ]
    },
    {
      "cell_type": "code",
      "source": [
        "import re\n",
        "\n",
        "def clean_bangla_text(text):\n",
        "    # Common encoding fixes (PDF/OCR/copy-paste errors)\n",
        "    encoding_fixes = {\n",
        "        # Fix vowel encoding issues\n",
        "        \"\u00e0\u00a6\": \"\u09be\", \"\u00e0\u00a7\": \"\u09c7\", \"\u00e0\u00a5\": \"\u09c0\", \"\u00e0\u00a4\": \"\u09bf\",\n",
        "        \"\u00e0\u00a6\u00be\": \"\u09be\", \"\u00e0\u00a6\u00bf\": \"\u09bf\", \"\u00e0\u00a6\u00b8\": \"\u09b8\",\n",
        "        # Fix consonant clusters\n",
        "        \"\u09cd\u09b0\u09cd\": \"\u09cd\u09b0\", \"\u09cd\u09b0\u09c7\": \"\u09cd\u09b0\u09c7\", \"\u09cd\u09b0\u09cb\": \"\u09cd\u09b0\u09cb\",\n",
        "        # Fix invisible characters\n",
        "        \"\\u200b\": \"\", \"\\u200c\": \"\", \"\\u200d\": \"\", \"\\ufeff\": \"\",\n",
        "        # Fix broken punctuation\n",
        "        \"\u0964\u0964\": \"\u0964\", \"..\": \"\u0964\", \"?.\": \"?\",\n",
        "        # Fix common OCR mistakes\n",
        "        \"\u00ea\": \"\u09c7\", \"\u00f4\": \"\u09cb\", \"\u00fb\": \"\u09c2\", \"\u00ee\": \"\u09c0\",\n",
        "        \"\u00e0\": \"\u09be\", \"\u00e9\": \"\u09c7\", \"\u00e7\": \"\u099a\", \"\u00f1\": \"\u099e\"\n",
        "    }\n",
        "\n",
        "    # Apply encoding fixes\n",
        "    for wrong, correct in encoding_fixes.items():\n",
        "        text = text.replace(wrong, correct)\n",
        "\n",
        "    # Step 2: Normalize Unicode compositions (e.g., \u0995 + \u09cd + \u09b7 = \u0995\u09cd\u09b7)\n",
        "    text = text.replace(\"\\u09CD\\u09B7\", \"\\u09CD\\u09B7\")  # \u0995\u09cd\u09b7 fix\n",
        "\n",
        "    # Step 3: Remove duplicate/irregular whitespace\n",
        "    text = re.sub(r\"\\s+\", \" \", text).strip()\n",
        "\n",
        "    # Step 4: Fix common conjuncts (\u09af\u09c1\u0995\u09cd\u09a4\u09be\u0995\u09cd\u09b7\u09b0)\n",
        "    conjunct_fixes = {\n",
        "        \"\u0995\u09cd\u200c\u09b7\": \"\u0995\u09cd\u09b7\", \"\u09b8\u09cd\u200c\u09a5\": \"\u09b8\u09cd\u09a5\", \"\u099c\u09cd\u200c\u099e\": \"\u099c\u09cd\u099e\",\n",
        "        \"\u09ac\u09cd\u200c\u09a6\": \"\u09ac\u09cd\u09a6\", \"\u09b6\u09cd\u200c\u09b0\": \"\u09b6\u09cd\u09b0\"\n",
        "    }\n",
        "    for wrong, correct in conjunct_fixes.items():\n",
        "        text = text.replace(wrong, correct)\n",
        "\n",
        "    return text"
      ],
      "metadata": {
        "id": "_G0t2Sodyeac"
      },
      "execution_count": null,
      "outputs": []
    },
    {
      "cell_type": "code",
      "source": [
        "print(\"\\n\u0987\u09a8\u09cd\u099f\u09be\u09b0\u09c7\u0995\u09cd\u099f\u09bf\u09ad \u09ae\u09cb\u09a1 \u09b6\u09c1\u09b0\u09c1 \u09b9\u09df\u09c7\u099b\u09c7\u0964 \u09aa\u09cd\u09b0\u09b8\u09cd\u09a5\u09be\u09a8 \u0995\u09b0\u09a4\u09c7 'exit' \u09b2\u09bf\u0996\u09c1\u09a8\")\n",
        "while True:\n",
        "    user_q = input(\"\\n\u0986\u09aa\u09a8\u09be\u09b0 \u09aa\u09cd\u09b0\u09b6\u09cd\u09a8: \")\n",
        "    cleaned_q = clean_bangla_text(user_q)\n",
        "\n",
        "    if cleaned_q.lower() in ['exit', 'quit', '\u09aa\u09cd\u09b0\u09b8\u09cd\u09a5\u09be\u09a8']:\n",
        "        break\n",
        "\n",
        "    response = rag.query(cleaned_q)\n",
        "    print(f\"\\n\u0989\u09a4\u09cd\u09a4\u09b0:\\n{response.content}\\n\")"
      ],
      "metadata": {
        "colab": {
          "base_uri": "https://localhost:8080/"
        },
        "id": "4ccCmSBTy2CU",
        "outputId": "5f196f46-59ef-4dd4-dc9d-11a99dc63a87"
      },
      "execution_count": null,
      "outputs": [
        {
          "name": "stdout",
          "output_type": "stream",
          "text": [
            "\n",
            "\u0987\u09a8\u09cd\u099f\u09be\u09b0\u09c7\u0995\u09cd\u099f\u09bf\u09ad \u09ae\u09cb\u09a1 \u09b6\u09c1\u09b0\u09c1 \u09b9\u09df\u09c7\u099b\u09c7\u0964 \u09aa\u09cd\u09b0\u09b8\u09cd\u09a5\u09be\u09a8 \u0995\u09b0\u09a4\u09c7 'exit' \u09b2\u09bf\u0996\u09c1\u09a8\n",
            "\n",
            "\u0986\u09aa\u09a8\u09be\u09b0 \u09aa\u09cd\u09b0\u09b6\u09cd\u09a8: \u0985\u09a8\u09c1\u09aa\u09b2\u09c7\u09bf \u09bf\u09be\u09bf\u09be \u0995\u09c0 \u0995\u09b2\u09bf \u099c\u09c0\u09b0\u09bf\u0995\u09be \u09b0\u09a8\u09bf\u09ac\u09be\u09b9 \u0995\u09bf\u09b2\u09a4\u09a8?\n",
            "\n",
            "\u0989\u09a4\u09cd\u09a4\u09b0:\n",
            "\u09aa\u09cd\u09b0\u09a6\u09a4\u09cd\u09a4 \u09a1\u0995\u09c1\u09ae\u09c7\u09a8\u09cd\u099f\u09c7 \u09a4\u09a5\u09cd\u09af \u09a8\u09c7\u0987\u0964\n",
            "\n",
            "\n",
            "\u0986\u09aa\u09a8\u09be\u09b0 \u09aa\u09cd\u09b0\u09b6\u09cd\u09a8: \u09c7\u09c0\u09aa\u09c1\u09bf \u09bf\u09be\u09bf\u09be\u09bf \u09b8\u09b2\u09c7 \u2018\u0985\u09aa\u09b0\u09bf\u09b0\u09bf\u09a4\u09be' \u0997\u09cd\u09b2\u09c7\u09bf \u09a6\u0995\u09be\u09a8 \u09bf\u09b0\u09bf\u09b2\u09c7\u09bf \u09b0\u09c7 \u0986\u09b2\u09c7?\n",
            "\n",
            "\u0989\u09a4\u09cd\u09a4\u09b0:\n",
            "\u09aa\u09cd\u09b0\u09a6\u09a4\u09cd\u09a4 \u09a1\u0995\u09c1\u09ae\u09c7\u09a8\u09cd\u099f \u0985\u09a8\u09c1\u09af\u09be\u09df\u09c0, \u2018\u0985\u09aa\u09b0\u09bf\u099a\u09bf\u09a4\u09be\u2019 \u0997\u09b2\u09cd\u09aa\u09c7\u09b0 \u2018\u0985\u09a8\u09c1\u09aa\u09ae\u09c7\u09b0 \u09ae\u09be\u09ae\u09be\u2019 \u099a\u09b0\u09bf\u09a4\u09cd\u09b0\u099f\u09bf\u09b0 \u09b8\u09be\u09a5\u09c7 \u09a6\u09c0\u09aa\u09c1\u09b0 \u09ae\u09be\u09ae\u09be\u09b0 \u09ae\u09bf\u09b2 \u09b0\u09af\u09bc\u09c7\u099b\u09c7\u0964\n",
            "\n",
            "\n",
            "\u0986\u09aa\u09a8\u09be\u09b0 \u09aa\u09cd\u09b0\u09b6\u09cd\u09a8: \u0985\u09a8\u09c1\u09aa\u09b2\u09c7\u09bf \u09bf\u09af\u09bc\u09b8 \u0995\u09a4 \u09bf\u09c7\u09bf?\n",
            "\n",
            "\u0989\u09a4\u09cd\u09a4\u09b0:\n",
            "\u09aa\u09cd\u09b0\u09a6\u09a4\u09cd\u09a4 \u09a1\u0995\u09c1\u09ae\u09c7\u09a8\u09cd\u099f\u09c7 \u09a4\u09a5\u09cd\u09af \u09a8\u09c7\u0987\u0964\n",
            "\n",
            "\n",
            "\u0986\u09aa\u09a8\u09be\u09b0 \u09aa\u09cd\u09b0\u09b6\u09cd\u09a8: \u0985\u09a8\u09c1\u09aa\u09b2\u09c7\u09bf \u09bf\u09be\u09bf\u09be \u0995\u09c0 \u0995\u09b2\u09bf \u099c\u09c0\u09b0\u09bf\u0995\u09be \u09b0\u09a8\u09bf\u09ac\u09be\u09b9 \u0995\u09bf\u09b2\u09a4\u09a8?\n",
            "\n",
            "\u0989\u09a4\u09cd\u09a4\u09b0:\n",
            "\u09aa\u09cd\u09b0\u09a6\u09a4\u09cd\u09a4 \u09a1\u0995\u09c1\u09ae\u09c7\u09a8\u09cd\u099f\u09c7 \u09a4\u09a5\u09cd\u09af \u09a8\u09c7\u0987\u0964\n",
            "\n",
            "\n",
            "\u0986\u09aa\u09a8\u09be\u09b0 \u09aa\u09cd\u09b0\u09b6\u09cd\u09a8: \u09cb\u09cb\u09b2\u0995 \u09ad\u09be\u0997\u09cd\u09af \u09a6\u09c7\u09bf\u09a4\u09be\u09bf \u09aa\u09cd\u09b0\u09a7\u09be\u09a8 \u098f\u09b2\u099c\u09a8\u09cd\u099f \u09bf \u09be\u09bf \u0995\u09be\u09bf\u09a3, \u09a4\u09be\u09bf-\n",
            "\n",
            "\u0989\u09a4\u09cd\u09a4\u09b0:\n",
            "\u09aa\u09cd\u09b0\u09a6\u09a4\u09cd\u09a4 \u09a1\u0995\u09c1\u09ae\u09c7\u09a8\u09cd\u099f \u0985\u09a8\u09c1\u09af\u09be\u09df\u09c0, \u09ae\u09be\u09ae\u09be \u09b9\u09b2\u09c7\u09a8 \u0985\u09a8\u09c1\u09aa\u09ae\u09c7\u09b0 \u0986\u09b8\u09b2 \u0985\u09ad\u09bf\u09ad\u09be\u09ac\u0995 \u098f\u09ac\u0982 \u09a4\u09bf\u09a8\u09bf \u09a4\u09be\u09a6\u09c7\u09b0 \u09aa\u09c1\u09b0\u09cb \u09b8\u0982\u09b8\u09be\u09b0\u099f\u09bf \u09a8\u09bf\u099c\u09c7\u09b0 \u09a8\u09bf\u09df\u09a8\u09cd\u09a4\u09cd\u09b0\u09a3\u09c7 \u09b0\u09be\u0996\u09c7\u09a8\u0964 \u0985\u09a8\u09c1\u09aa\u09ae \u09ac\u09cd\u09af\u0995\u09cd\u09a4\u09bf\u09a4\u09cd\u09ac\u09b9\u09c0\u09a8, \u09aa\u09b0\u09bf\u09ac\u09be\u09b0\u09a4\u09a8\u09cd\u09a4\u09cd\u09b0\u09c7\u09b0 \u0995\u09be\u099b\u09c7 \u0985\u09b8\u09b9\u09be\u09df \u098f\u09ac\u0982 \u09b8\u09ac\u0995\u09bf\u099b\u09c1\u09b0 \u099c\u09a8\u09cd\u09af \u09ae\u09be\u09ae\u09be\u09b0 \u0989\u09aa\u09b0 \u09a8\u09bf\u09b0\u09cd\u09ad\u09b0\u09b6\u09c0\u09b2\u0964 \u09ae\u09be\u09ae\u09be\u09b0 \u09b9\u09c0\u09a8 \u09ae\u09be\u09a8\u09b8\u09bf\u0995\u09a4\u09be \u0993 \u09af\u09cc\u09a4\u09c1\u0995\u09c7\u09b0 \u0997\u09b9\u09a8\u09be \u09aa\u09b0\u09c0\u0995\u09cd\u09b7\u09be \u0995\u09b0\u09be\u09b0 \u09ae\u09a4\u09cb \u0985\u09ac\u09ae\u09be\u09a8\u09a8\u09be\u0995\u09b0 \u0995\u09be\u099c\u09c7\u09b0 \u099c\u09a8\u09cd\u09af\u0987 \u0985\u09a8\u09c1\u09aa\u09ae\u09c7\u09b0 \u09ac\u09bf\u09df\u09c7 \u09ad\u09c7\u0999\u09c7 \u09af\u09be\u09df, \u09af\u09be \u09a4\u09be\u09b0 \u099c\u09c0\u09ac\u09a8\u09c7\u09b0 \u0997\u09a4\u09bf\u09aa\u09a5 \u09a8\u09bf\u09b0\u09cd\u09a7\u09be\u09b0\u09a3 \u0995\u09b0\u09c7 \u09a6\u09c7\u09df\u0964\n",
            "\n",
            "\n",
            "\u0986\u09aa\u09a8\u09be\u09b0 \u09aa\u09cd\u09b0\u09b6\u09cd\u09a8: exit\n"
          ]
        }
      ]
    },
    {
      "cell_type": "code",
      "source": [
        "import google.generativeai as genai\n",
        "from google.colab import userdata\n",
        "\n",
        "\n",
        "GOOGLE_API_KEY = userdata.get(\"GOOGLE_API_KEY\")\n",
        "genai.configure(api_key=GOOGLE_API_KEY)\n",
        "\n",
        "for m in genai.list_models():\n",
        "  if 'generateContent' in m.supported_generation_methods:\n",
        "    print(m.name)"
      ],
      "metadata": {
        "colab": {
          "base_uri": "https://localhost:8080/",
          "height": 763
        },
        "id": "bepGfxChz_Mg",
        "outputId": "24c06df6-a58a-4a04-a667-c4aa443df3d8"
      },
      "execution_count": null,
      "outputs": [
        {
          "output_type": "stream",
          "name": "stdout",
          "text": [
            "models/gemini-1.0-pro-vision-latest\n",
            "models/gemini-pro-vision\n",
            "models/gemini-1.5-pro-latest\n",
            "models/gemini-1.5-pro-002\n",
            "models/gemini-1.5-pro\n",
            "models/gemini-1.5-flash-latest\n",
            "models/gemini-1.5-flash\n",
            "models/gemini-1.5-flash-002\n",
            "models/gemini-1.5-flash-8b\n",
            "models/gemini-1.5-flash-8b-001\n",
            "models/gemini-1.5-flash-8b-latest\n",
            "models/gemini-2.5-pro-preview-03-25\n",
            "models/gemini-2.5-flash-preview-05-20\n",
            "models/gemini-2.5-flash\n",
            "models/gemini-2.5-flash-lite-preview-06-17\n",
            "models/gemini-2.5-pro-preview-05-06\n",
            "models/gemini-2.5-pro-preview-06-05\n",
            "models/gemini-2.5-pro\n",
            "models/gemini-2.0-flash-exp\n",
            "models/gemini-2.0-flash\n",
            "models/gemini-2.0-flash-001\n",
            "models/gemini-2.0-flash-exp-image-generation\n",
            "models/gemini-2.0-flash-lite-001\n",
            "models/gemini-2.0-flash-lite\n",
            "models/gemini-2.0-flash-preview-image-generation\n",
            "models/gemini-2.0-flash-lite-preview-02-05\n",
            "models/gemini-2.0-flash-lite-preview\n",
            "models/gemini-2.0-pro-exp\n",
            "models/gemini-2.0-pro-exp-02-05\n",
            "models/gemini-exp-1206\n",
            "models/gemini-2.0-flash-thinking-exp-01-21\n",
            "models/gemini-2.0-flash-thinking-exp\n",
            "models/gemini-2.0-flash-thinking-exp-1219\n",
            "models/gemini-2.5-flash-preview-tts\n",
            "models/gemini-2.5-pro-preview-tts\n",
            "models/learnlm-2.0-flash-experimental\n",
            "models/gemma-3-1b-it\n",
            "models/gemma-3-4b-it\n",
            "models/gemma-3-12b-it\n",
            "models/gemma-3-27b-it\n",
            "models/gemma-3n-e4b-it\n",
            "models/gemma-3n-e2b-it\n",
            "models/gemini-2.5-flash-lite\n"
          ]
        }
      ]
    }
  ]
}